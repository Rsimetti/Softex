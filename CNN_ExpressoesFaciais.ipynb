{
  "nbformat": 4,
  "nbformat_minor": 0,
  "metadata": {
    "colab": {
      "name": "CNN-ExpressoesFaciais.ipynb",
      "provenance": [],
      "collapsed_sections": [],
      "authorship_tag": "ABX9TyMXxPUoKvO1A2F76O3El6LS",
      "include_colab_link": true
    },
    "kernelspec": {
      "name": "python3",
      "display_name": "Python 3"
    }
  },
  "cells": [
    {
      "cell_type": "markdown",
      "metadata": {
        "id": "view-in-github",
        "colab_type": "text"
      },
      "source": [
        "<a href=\"https://colab.research.google.com/github/profRCC/Softex/blob/master/CNN_ExpressoesFaciais.ipynb\" target=\"_parent\"><img src=\"https://colab.research.google.com/assets/colab-badge.svg\" alt=\"Open In Colab\"/></a>"
      ]
    },
    {
      "cell_type": "markdown",
      "metadata": {
        "id": "KfU_JcKXzXgW",
        "colab_type": "text"
      },
      "source": [
        "## **Reconhecimento de Expressões Faciais**\n",
        "* dataset de imagens de rostos de pessoas\n",
        "* objetivo é reconhecer emoções nas expressões faciais\n",
        "* 7 tipos de expressões:\n",
        "  * raiva\n",
        "  * medo\n",
        "  * tristeza\n",
        "  * surpresa\n",
        "  * alegria\n",
        "  * nojo\n",
        "  * neutro\n",
        "\n",
        "<img src= https://www.kaggleusercontent.com/kf/9149929/eyJhbGciOiJkaXIiLCJlbmMiOiJBMTI4Q0JDLUhTMjU2In0..1NA-TDLU4EaCESBBWDihCQ.zXuHhhfi4-RgynaCZvCtuSksrN1IdbXZTdAje8dPKxHEDWl_bZG4FaEcCI9rGke-LUKMFUAzwknGchs0q6PzY5Qinsm6Hb2iEjnw4A6cBrtCHMge4objnF7hoXcTDR-MzAkLePR-r_ZO_zX-UT2_qTEFHR-L9yr1MOidF3FMMGu-NKK3fEqJtL3vo0sEc8BRyMvAsXjpXgr16gjNMxryQLFaxJe_pXVuzhaiz2L3oOn8eyWSUFRttGYT_vwgq60e8ABQzoV7XLzM3GY3riibrRSsz9Pc2NFT59FMMl_KIwH7dMY0TNTlbcMyhyM0bcrsVxs6UoWmXfSSMMsQw3DxWXbkf5E3MI78RZ9vtr-ExBBklFrunPRyhVUvM1W9zm2X37KjYdLPa5jTHDhsWjq4d-hZ8DDLT744DnTAS0nvwtpwrXS1lmAfuSUOvNdFl6XpAFkvcTMNfktf-Nuwes798bZyD5TPMkW2wL_j5rbKtYKHbA1kypnN_VE0Cs4EmvzMQ3jHlnjpSZUfN-AX9a_c_SZ_zDy8ydNJ04jcKc3L_QQFK6qPmKnoMDCTfnviFuhc16rkNUU4I7hDyfdCpBSpligUfg6fHHul34u1g15hjJfPx3wizDOVkhYWAJbyHGE5GDAhgiUH1itZqV2adDaCYVUwzrF1Z04ykZ9r8kCZd3MSFNaaPBsOlXzpTTRL0f4f.syPGlilleLl4r9raNlp5cg/__results___files/__results___3_1.png width=500>"
      ]
    },
    {
      "cell_type": "code",
      "metadata": {
        "id": "fVr0PAabzb7h",
        "colab_type": "code",
        "colab": {
          "base_uri": "https://localhost:8080/",
          "height": 34
        },
        "outputId": "05a95d38-51db-4748-d451-b3257394ebca"
      },
      "source": [
        "from google.colab import drive\n",
        "drive.mount('/content/drive/')"
      ],
      "execution_count": 1,
      "outputs": [
        {
          "output_type": "stream",
          "text": [
            "Drive already mounted at /content/drive/; to attempt to forcibly remount, call drive.mount(\"/content/drive/\", force_remount=True).\n"
          ],
          "name": "stdout"
        }
      ]
    },
    {
      "cell_type": "markdown",
      "metadata": {
        "id": "5ZSUBF9w4cPF",
        "colab_type": "text"
      },
      "source": [
        "## **1. Importando bibliotecas**"
      ]
    },
    {
      "cell_type": "code",
      "metadata": {
        "id": "GQrofXqP16X3",
        "colab_type": "code",
        "colab": {}
      },
      "source": [
        "import numpy as np # linear algebra\n",
        "import pandas as pd # data processing, CSV file I/O (e.g. pd.read_csv)\n",
        "import cv2 # opencv\n",
        "import matplotlib.pyplot as plt\n",
        "import os\n",
        "\n",
        "from sklearn.metrics import accuracy_score\n",
        "\n",
        "from keras import preprocessing\n",
        "from keras.utils.np_utils import to_categorical # convert to one-hot-encoding\n",
        "from keras.models import Sequential\n",
        "from keras.layers import Dense, Dropout, Flatten, Conv2D, MaxPool2D\n",
        "from keras.optimizers import RMSprop"
      ],
      "execution_count": 2,
      "outputs": []
    },
    {
      "cell_type": "markdown",
      "metadata": {
        "id": "ra8GojOu4f4S",
        "colab_type": "text"
      },
      "source": [
        "## **2. Lendo imagens**"
      ]
    },
    {
      "cell_type": "markdown",
      "metadata": {
        "id": "ucfsyOeU7NBm",
        "colab_type": "text"
      },
      "source": [
        "### Exemplo de leitura de uma imagem"
      ]
    },
    {
      "cell_type": "code",
      "metadata": {
        "id": "t9ULqqHB2MZR",
        "colab_type": "code",
        "colab": {}
      },
      "source": [
        "#lendo imagem\n",
        "img = cv2.imread('/content/drive/My Drive/Colab Notebooks/Softex/Semana6/datasets/face/train/disgust/299.jpg')"
      ],
      "execution_count": null,
      "outputs": []
    },
    {
      "cell_type": "code",
      "metadata": {
        "id": "Zk8S91cL2ikp",
        "colab_type": "code",
        "colab": {
          "base_uri": "https://localhost:8080/",
          "height": 34
        },
        "outputId": "c1298e98-a625-4452-c598-c5c78ba9652d"
      },
      "source": [
        "img.shape"
      ],
      "execution_count": null,
      "outputs": [
        {
          "output_type": "execute_result",
          "data": {
            "text/plain": [
              "(48, 48, 3)"
            ]
          },
          "metadata": {
            "tags": []
          },
          "execution_count": 7
        }
      ]
    },
    {
      "cell_type": "code",
      "metadata": {
        "id": "zragsSpb2bX6",
        "colab_type": "code",
        "colab": {
          "base_uri": "https://localhost:8080/",
          "height": 267
        },
        "outputId": "154a5986-69c7-4321-9bad-30ec176895c1"
      },
      "source": [
        "#plotando imagem\n",
        "plt.imshow(img, cmap = 'gray', interpolation = 'bicubic')\n",
        "plt.show()"
      ],
      "execution_count": null,
      "outputs": [
        {
          "output_type": "display_data",
          "data": {
            "image/png": "[encoded data removed]",
            "text/plain": [
              "<Figure size 432x288 with 1 Axes>"
            ]
          },
          "metadata": {
            "tags": [],
            "needs_background": "light"
          }
        }
      ]
    },
    {
      "cell_type": "code",
      "metadata": {
        "id": "ll7oaXSv2osH",
        "colab_type": "code",
        "colab": {
          "base_uri": "https://localhost:8080/",
          "height": 850
        },
        "outputId": "29d69046-7439-4ade-c508-4b41661eb4a9"
      },
      "source": [
        "#transformando imagem em matriz de pixels\n",
        "pixels = np.asarray(img)\n",
        "pixels"
      ],
      "execution_count": null,
      "outputs": [
        {
          "output_type": "execute_result",
          "data": {
            "text/plain": [
              "array([[[125, 125, 125],\n",
              "        [126, 126, 126],\n",
              "        [128, 128, 128],\n",
              "        ...,\n",
              "        [ 91,  91,  91],\n",
              "        [ 84,  84,  84],\n",
              "        [ 98,  98,  98]],\n",
              "\n",
              "       [[123, 123, 123],\n",
              "        [130, 130, 130],\n",
              "        [130, 130, 130],\n",
              "        ...,\n",
              "        [ 90,  90,  90],\n",
              "        [ 91,  91,  91],\n",
              "        [ 97,  97,  97]],\n",
              "\n",
              "       [[117, 117, 117],\n",
              "        [131, 131, 131],\n",
              "        [125, 125, 125],\n",
              "        ...,\n",
              "        [ 69,  69,  69],\n",
              "        [ 85,  85,  85],\n",
              "        [ 88,  88,  88]],\n",
              "\n",
              "       ...,\n",
              "\n",
              "       [[ 43,  43,  43],\n",
              "        [ 44,  44,  44],\n",
              "        [ 36,  36,  36],\n",
              "        ...,\n",
              "        [ 56,  56,  56],\n",
              "        [118, 118, 118],\n",
              "        [205, 205, 205]],\n",
              "\n",
              "       [[ 47,  47,  47],\n",
              "        [ 42,  42,  42],\n",
              "        [ 32,  32,  32],\n",
              "        ...,\n",
              "        [ 71,  71,  71],\n",
              "        [167, 167, 167],\n",
              "        [211, 211, 211]],\n",
              "\n",
              "       [[ 46,  46,  46],\n",
              "        [ 44,  44,  44],\n",
              "        [ 44,  44,  44],\n",
              "        ...,\n",
              "        [106, 106, 106],\n",
              "        [200, 200, 200],\n",
              "        [208, 208, 208]]], dtype=uint8)"
            ]
          },
          "metadata": {
            "tags": []
          },
          "execution_count": 9
        }
      ]
    },
    {
      "cell_type": "markdown",
      "metadata": {
        "id": "bidYxDyp7TET",
        "colab_type": "text"
      },
      "source": [
        "### Lendo todas as imagens"
      ]
    },
    {
      "cell_type": "code",
      "metadata": {
        "id": "MbyaWM4156so",
        "colab_type": "code",
        "colab": {}
      },
      "source": [
        "input_dir = '/content/drive/My Drive/Colab Notebooks/Softex/Semana6/datasets/face/'"
      ],
      "execution_count": 3,
      "outputs": []
    },
    {
      "cell_type": "code",
      "metadata": {
        "id": "xeJkFOFNUl83",
        "colab_type": "code",
        "colab": {}
      },
      "source": [
        "#tipo = train ou test\n",
        "classes = {'angry':0,'fear':1,'sad':2,'surprise':3,'happy':4,'neutral':5,'disgust':6}\n",
        "def ler_dataset(tipo):\n",
        "  X = []\n",
        "  y = []\n",
        "  qtd = 1000 if tipo == 'train' else 200\n",
        "  #para cada pasta\n",
        "  for pasta in os.listdir(input_dir+tipo+'/'):\n",
        "    print(pasta)\n",
        "    #para cada imagem na pasta\n",
        "    for img_file in os.listdir(input_dir+tipo+'/'+pasta+'/')[:qtd]:\n",
        "      #leia a imagem\n",
        "      img = cv2.imread(input_dir+tipo+'/'+pasta+'/'+img_file)\n",
        "      #transforme imagem em array de pixels e salve na lista de imagens\n",
        "      X.append(img)\n",
        "      #guarde a classificação da imagem\n",
        "      y.append(classes[pasta])\n",
        "  X = np.asarray(X)\n",
        "  y = np.asarray(y)\n",
        "  return X,y"
      ],
      "execution_count": 4,
      "outputs": []
    },
    {
      "cell_type": "code",
      "metadata": {
        "id": "o5VaTMKa5lLG",
        "colab_type": "code",
        "colab": {
          "base_uri": "https://localhost:8080/",
          "height": 136
        },
        "outputId": "8a57fe9a-bd2e-4f7a-a17e-605fda35ff92"
      },
      "source": [
        "X_treino,y_treino = ler_dataset('train')"
      ],
      "execution_count": 5,
      "outputs": [
        {
          "output_type": "stream",
          "text": [
            "angry\n",
            "fear\n",
            "sad\n",
            "surprise\n",
            "happy\n",
            "neutral\n",
            "disgust\n"
          ],
          "name": "stdout"
        }
      ]
    },
    {
      "cell_type": "code",
      "metadata": {
        "id": "NlGyh4v7NJMp",
        "colab_type": "code",
        "colab": {
          "base_uri": "https://localhost:8080/",
          "height": 34
        },
        "outputId": "0d63b865-0720-4773-bf86-4f89872e495a"
      },
      "source": [
        "X_treino.shape"
      ],
      "execution_count": 6,
      "outputs": [
        {
          "output_type": "execute_result",
          "data": {
            "text/plain": [
              "(6436, 48, 48, 3)"
            ]
          },
          "metadata": {
            "tags": []
          },
          "execution_count": 6
        }
      ]
    },
    {
      "cell_type": "code",
      "metadata": {
        "id": "54-zo5dUO795",
        "colab_type": "code",
        "colab": {
          "base_uri": "https://localhost:8080/",
          "height": 34
        },
        "outputId": "bcec5af5-aec8-4ac2-be70-de8568765f5c"
      },
      "source": [
        "y_treino.shape"
      ],
      "execution_count": 7,
      "outputs": [
        {
          "output_type": "execute_result",
          "data": {
            "text/plain": [
              "(6436,)"
            ]
          },
          "metadata": {
            "tags": []
          },
          "execution_count": 7
        }
      ]
    },
    {
      "cell_type": "code",
      "metadata": {
        "id": "bOKeR1mHXMPm",
        "colab_type": "code",
        "colab": {
          "base_uri": "https://localhost:8080/",
          "height": 136
        },
        "outputId": "4a7055b1-7c8a-45fb-e27c-7821d9707bc2"
      },
      "source": [
        "X_teste,y_teste = ler_dataset('test')"
      ],
      "execution_count": 8,
      "outputs": [
        {
          "output_type": "stream",
          "text": [
            "happy\n",
            "angry\n",
            "disgust\n",
            "surprise\n",
            "neutral\n",
            "fear\n",
            "sad\n"
          ],
          "name": "stdout"
        }
      ]
    },
    {
      "cell_type": "code",
      "metadata": {
        "id": "nCHjrADXXQkf",
        "colab_type": "code",
        "colab": {
          "base_uri": "https://localhost:8080/",
          "height": 34
        },
        "outputId": "5934a6f0-acad-4303-d261-35a771975cf1"
      },
      "source": [
        "X_teste.shape"
      ],
      "execution_count": 9,
      "outputs": [
        {
          "output_type": "execute_result",
          "data": {
            "text/plain": [
              "(1311, 48, 48, 3)"
            ]
          },
          "metadata": {
            "tags": []
          },
          "execution_count": 9
        }
      ]
    },
    {
      "cell_type": "code",
      "metadata": {
        "id": "gb0wFQKOocwa",
        "colab_type": "code",
        "colab": {
          "base_uri": "https://localhost:8080/",
          "height": 34
        },
        "outputId": "b5aaae8e-044d-49f9-b3f9-3340001deb95"
      },
      "source": [
        "y_teste.shape"
      ],
      "execution_count": 10,
      "outputs": [
        {
          "output_type": "execute_result",
          "data": {
            "text/plain": [
              "(1311,)"
            ]
          },
          "metadata": {
            "tags": []
          },
          "execution_count": 10
        }
      ]
    },
    {
      "cell_type": "code",
      "metadata": {
        "id": "7ZV-lztkui1E",
        "colab_type": "code",
        "colab": {}
      },
      "source": [
        "#transformando labels de numérico para categórico\n",
        "y_treino = to_categorical(y_treino, num_classes = 7)\n",
        "y_teste = to_categorical(y_teste, num_classes = 7)"
      ],
      "execution_count": 11,
      "outputs": []
    },
    {
      "cell_type": "markdown",
      "metadata": {
        "id": "58bssJpvZS9N",
        "colab_type": "text"
      },
      "source": [
        "## 3. Re-escala dos Dados"
      ]
    },
    {
      "cell_type": "code",
      "metadata": {
        "id": "xlb1UEDBCyUF",
        "colab_type": "code",
        "colab": {}
      },
      "source": [
        "X_treino = X_treino/255\n",
        "X_teste = X_teste/255"
      ],
      "execution_count": 12,
      "outputs": []
    },
    {
      "cell_type": "markdown",
      "metadata": {
        "id": "-_IWswGUZcGC",
        "colab_type": "text"
      },
      "source": [
        "## 4. Definindo CNN"
      ]
    },
    {
      "cell_type": "code",
      "metadata": {
        "id": "72ECyedNEvqM",
        "colab_type": "code",
        "colab": {}
      },
      "source": [
        "#definição do modelo\n",
        "model = Sequential()\n",
        "\n",
        "# 2 camadas de convolução de 32 filtros + Max pooling [2,2]\n",
        "model.add(Conv2D(filters = 32, kernel_size = (5,5),padding = 'Same', activation ='relu', input_shape = (48,48,3)))\n",
        "model.add(Conv2D(filters = 32, kernel_size = (5,5),padding = 'Same', activation ='relu'))\n",
        "model.add(Conv2D(filters = 32, kernel_size = (5,5),padding = 'Same', activation ='relu'))\n",
        "model.add(MaxPool2D(pool_size=(2,2)))\n",
        "model.add(Dropout(0.25))\n",
        "\n",
        "# 2 camadas de convolução de 64 filtros + Max pooling [2,2]\n",
        "model.add(Conv2D(filters = 64, kernel_size = (3,3),padding = 'Same', activation ='relu'))\n",
        "model.add(Conv2D(filters = 64, kernel_size = (3,3),padding = 'Same', activation ='relu'))\n",
        "model.add(Conv2D(filters = 64, kernel_size = (3,3),padding = 'Same', activation ='relu'))\n",
        "model.add(MaxPool2D(pool_size=(2,2), strides=(2,2)))\n",
        "model.add(Dropout(0.25))\n",
        "\n",
        "# 2 camadas de convolução de 128 filtros + Max pooling [2,2]\n",
        "model.add(Conv2D(filters = 128, kernel_size = (3,3),padding = 'Same', activation ='relu'))\n",
        "model.add(Conv2D(filters = 128, kernel_size = (3,3),padding = 'Same', activation ='relu'))\n",
        "model.add(Conv2D(filters = 128, kernel_size = (3,3),padding = 'Same', activation ='relu'))\n",
        "model.add(MaxPool2D(pool_size=(2,2), strides=(2,2)))\n",
        "model.add(Dropout(0.25))\n",
        "\n",
        "#  2 camadas fully conected \n",
        "model.add(Flatten())#converte os mapas de ativação finais para um veter de 1 dimensão\n",
        "model.add(Dense(256, activation = \"relu\"))\n",
        "model.add(Dropout(0.5))\n",
        "model.add(Dense(7, activation = \"softmax\"))"
      ],
      "execution_count": 14,
      "outputs": []
    },
    {
      "cell_type": "code",
      "metadata": {
        "id": "XOww5CrRE0zm",
        "colab_type": "code",
        "colab": {}
      },
      "source": [
        "# Definindo o algoritmo otmizador\n",
        "optimizer = RMSprop(lr=0.001, rho=0.9, epsilon=1e-08, decay=0.0)"
      ],
      "execution_count": 15,
      "outputs": []
    },
    {
      "cell_type": "code",
      "metadata": {
        "id": "a4N5OhyZE11a",
        "colab_type": "code",
        "colab": {}
      },
      "source": [
        "# Compilando o modelo\n",
        "model.compile(optimizer = optimizer , loss = \"categorical_crossentropy\", metrics=[\"accuracy\"])"
      ],
      "execution_count": 16,
      "outputs": []
    },
    {
      "cell_type": "code",
      "metadata": {
        "id": "zX5D01oRE3DU",
        "colab_type": "code",
        "colab": {
          "base_uri": "https://localhost:8080/",
          "height": 799
        },
        "outputId": "3c56c1a3-61b5-495e-9b8f-67516fbdc31c"
      },
      "source": [
        "# Descrição do modelo\n",
        "model.summary()"
      ],
      "execution_count": 17,
      "outputs": [
        {
          "output_type": "stream",
          "text": [
            "Model: \"sequential_1\"\n",
            "_________________________________________________________________\n",
            "Layer (type)                 Output Shape              Param #   \n",
            "=================================================================\n",
            "conv2d_9 (Conv2D)            (None, 48, 48, 32)        2432      \n",
            "_________________________________________________________________\n",
            "conv2d_10 (Conv2D)           (None, 48, 48, 32)        25632     \n",
            "_________________________________________________________________\n",
            "conv2d_11 (Conv2D)           (None, 48, 48, 32)        25632     \n",
            "_________________________________________________________________\n",
            "max_pooling2d_1 (MaxPooling2 (None, 24, 24, 32)        0         \n",
            "_________________________________________________________________\n",
            "dropout_4 (Dropout)          (None, 24, 24, 32)        0         \n",
            "_________________________________________________________________\n",
            "conv2d_12 (Conv2D)           (None, 24, 24, 64)        18496     \n",
            "_________________________________________________________________\n",
            "conv2d_13 (Conv2D)           (None, 24, 24, 64)        36928     \n",
            "_________________________________________________________________\n",
            "conv2d_14 (Conv2D)           (None, 24, 24, 64)        36928     \n",
            "_________________________________________________________________\n",
            "max_pooling2d_2 (MaxPooling2 (None, 12, 12, 64)        0         \n",
            "_________________________________________________________________\n",
            "dropout_5 (Dropout)          (None, 12, 12, 64)        0         \n",
            "_________________________________________________________________\n",
            "conv2d_15 (Conv2D)           (None, 12, 12, 128)       73856     \n",
            "_________________________________________________________________\n",
            "conv2d_16 (Conv2D)           (None, 12, 12, 128)       147584    \n",
            "_________________________________________________________________\n",
            "conv2d_17 (Conv2D)           (None, 12, 12, 128)       147584    \n",
            "_________________________________________________________________\n",
            "max_pooling2d_3 (MaxPooling2 (None, 6, 6, 128)         0         \n",
            "_________________________________________________________________\n",
            "dropout_6 (Dropout)          (None, 6, 6, 128)         0         \n",
            "_________________________________________________________________\n",
            "flatten_1 (Flatten)          (None, 4608)              0         \n",
            "_________________________________________________________________\n",
            "dense_2 (Dense)              (None, 256)               1179904   \n",
            "_________________________________________________________________\n",
            "dropout_7 (Dropout)          (None, 256)               0         \n",
            "_________________________________________________________________\n",
            "dense_3 (Dense)              (None, 7)                 1799      \n",
            "=================================================================\n",
            "Total params: 1,696,775\n",
            "Trainable params: 1,696,775\n",
            "Non-trainable params: 0\n",
            "_________________________________________________________________\n"
          ],
          "name": "stdout"
        }
      ]
    },
    {
      "cell_type": "code",
      "metadata": {
        "id": "qw5TJnX6E4sN",
        "colab_type": "code",
        "colab": {
          "base_uri": "https://localhost:8080/",
          "height": 51
        },
        "outputId": "ffe93439-ff00-4bb4-d115-5b73b63e02d9"
      },
      "source": [
        "# treinamento do modelo\n",
        "model.fit(X_treino, y_treino, epochs=1,verbose = 1)"
      ],
      "execution_count": 18,
      "outputs": [
        {
          "output_type": "stream",
          "text": [
            "202/202 [==============================] - 247s 1s/step - loss: 1.9275 - accuracy: 0.1558\n"
          ],
          "name": "stdout"
        },
        {
          "output_type": "execute_result",
          "data": {
            "text/plain": [
              "<tensorflow.python.keras.callbacks.History at 0x7fc274431e10>"
            ]
          },
          "metadata": {
            "tags": []
          },
          "execution_count": 18
        }
      ]
    },
    {
      "cell_type": "markdown",
      "metadata": {
        "id": "2YuVZhhlZ2Ln",
        "colab_type": "text"
      },
      "source": [
        "## 5. Avaliando Modelo"
      ]
    },
    {
      "cell_type": "code",
      "metadata": {
        "id": "cqk3PQtyZ5fk",
        "colab_type": "code",
        "colab": {
          "base_uri": "https://localhost:8080/",
          "height": 51
        },
        "outputId": "5fef20ed-8b34-4f29-bf66-98c1a708114b"
      },
      "source": [
        "model.evaluate(X_teste,y_teste)"
      ],
      "execution_count": 19,
      "outputs": [
        {
          "output_type": "stream",
          "text": [
            "41/41 [==============================] - 11s 262ms/step - loss: 1.9309 - accuracy: 0.1526\n"
          ],
          "name": "stdout"
        },
        {
          "output_type": "execute_result",
          "data": {
            "text/plain": [
              "[1.9308542013168335, 0.15255530178546906]"
            ]
          },
          "metadata": {
            "tags": []
          },
          "execution_count": 19
        }
      ]
    }
  ]
}